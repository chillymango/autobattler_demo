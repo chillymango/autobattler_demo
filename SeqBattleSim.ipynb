{
 "cells": [
  {
   "cell_type": "code",
   "execution_count": 20,
   "metadata": {
    "collapsed": true
   },
   "outputs": [],
   "source": [
    "from selenium import webdriver\n",
    "from selenium.webdriver.support.ui import Select\n",
    "from selenium.webdriver.common.keys import Keys\n",
    "import random\n",
    "import pandas as pd\n",
    "import copy \n",
    "import numpy as np\n",
    "import pickle\n",
    "headOption = webdriver.FirefoxOptions()\n",
    "headOption.add_argument('-headless')\n",
    "\n",
    "driver = webdriver.Firefox(executable_path='/Users/william/Downloads/geckodriver', options=headOption)\n",
    "\n",
    "#driver = webdriver.Firefox(executable_path='/Users/william/Downloads/geckodriver')\n"
   ]
  },
  {
   "cell_type": "code",
   "execution_count": 21,
   "metadata": {},
   "outputs": [],
   "source": [
    "class card:\n",
    "     def __init__(self, name, cost, move_f, move_ch, move_tm, level, a_iv, d_iv, hp_iv, tm_flag, shiny, attack_stg, def_stg, health, energy, bonus_shield, status):\n",
    "        self.name = name\n",
    "        self.cost = cost\n",
    "        self.move_f = move_f\n",
    "        self.move_ch = move_ch\n",
    "        self.move_tm = move_tm\n",
    "        self.level = level\n",
    "        self.a_iv = a_iv\n",
    "        self.d_iv = d_iv\n",
    "        self.hp_iv = hp_iv\n",
    "        self.tm_flag = tm_flag\n",
    "        self.attack_stg = attack_stg\n",
    "        self.def_stg = def_stg\n",
    "        self.shiny = shiny\n",
    "        self.health = health\n",
    "        self.energy = energy\n",
    "        self.bonus_shield = bonus_shield\n",
    "        self.status = status    \n",
    "class card:\n",
    "     def __init__(self, name, cost, move_f, move_ch, move_tm, level, a_iv, d_iv, hp_iv, tm_flag, shiny, attack_stg, def_stg, health, energy, bonus_shield, status):\n",
    "        self.name = name\n",
    "        self.cost = cost\n",
    "        self.move_f = move_f\n",
    "        self.move_ch = move_ch\n",
    "        self.move_tm = move_tm\n",
    "        self.level = level\n",
    "        self.a_iv = a_iv\n",
    "        self.d_iv = d_iv\n",
    "        self.hp_iv = hp_iv\n",
    "        self.tm_flag = tm_flag\n",
    "        self.attack_stg = attack_stg\n",
    "        self.def_stg = def_stg\n",
    "        self.shiny = shiny\n",
    "        self.health = health\n",
    "        self.energy = energy\n",
    "        self.bonus_shield = bonus_shield\n",
    "        self.status = status    \n",
    "def card_from_string(pvpokestring):\n",
    "    l = pvpokestring.split(',')\n",
    "    return(card(\n",
    "    name = l[0],\n",
    "    cost = l[8],\n",
    "     move_f = l[1],\n",
    "     move_ch = l[2],\n",
    "     move_tm = l[3],\n",
    "     level = l[4],\n",
    "    a_iv = l[5], \n",
    "    d_iv = l[6], \n",
    "    hp_iv = l[7],\n",
    "    tm_flag = 0,\n",
    "    attack_stg = 0,\n",
    "    def_stg = 0,\n",
    "    shiny = 0,\n",
    "    health = 0,\n",
    "    energy = 0,\n",
    "    bonus_shield= 0,\n",
    "    status = 1\n",
    "        \n",
    "    )\n",
    "          )\n",
    "\n",
    "\n"
   ]
  },
  {
   "cell_type": "code",
   "execution_count": 22,
   "metadata": {
    "collapsed": true
   },
   "outputs": [],
   "source": [
    "def oneVone(battler1, battler2):\n",
    "    \n",
    "    if battler1.shiny == 1:\n",
    "        BUFF1 = 5\n",
    "    else:\n",
    "        BUFF1 = 4\n",
    "        \n",
    "    if battler2.shiny == 1:\n",
    "        BUFF2 = 5\n",
    "    else:\n",
    "        BUFF2 = 4\n",
    "    SHIELD1 = 1+battler1.bonus_shield\n",
    "    SHIELD2 = 1+battler2.bonus_shield\n",
    "    \n",
    "    if battler1.tm_flag == 0:\n",
    "        TM1 = 0\n",
    "    else:\n",
    "        TM1 = battler1.move_tm\n",
    "\n",
    "    if battler2.tm_flag == 0:\n",
    "        TM2 = 0\n",
    "    else:\n",
    "        TM2 = battler2.move_tm\n",
    "\n",
    "        \n",
    "        \n",
    "    url = f'http://localhost/pvpoke/src/battle/10000/{battler1.name}-{battler1.level}-{battler1.a_iv}-{battler1.d_iv}-{battler1.hp_iv}-{BUFF1}-{BUFF1}-1-0/{battler2.name}-{battler2.level}-{battler2.a_iv}-{battler2.d_iv}-{battler2.hp_iv}-{BUFF2}-{BUFF2}-1-0/{SHIELD1}{SHIELD2}/{battler1.move_f}-{battler1.move_ch}-{TM1}/{battler2.move_f}-{battler2.move_ch}-{TM2}/{battler1.health}-{battler2.health}/{battler1.energy}-{battler2.energy}/'\n",
    "    \n",
    "    driver.get(url)\n",
    "    \n",
    "    \n",
    "    result = driver.find_element_by_xpath(\"//div[@class='summary section white']\").text.split()\n",
    "    while len(result) == 0:\n",
    "        result = driver.find_element_by_xpath(\"//div[@class='summary section white']\").text.split()\n",
    "    \n",
    "    if result[0] == 'Simultaneous':\n",
    "        winner = 0\n",
    "        survivorhp = None\n",
    "        survivorenergy = None\n",
    "    else:\n",
    "        battle_score = int(driver.find_element_by_xpath(\"/html/body/div/div/div[4]/div[2]/div[5]/div[1]/span[3]\").text)\n",
    "        survivor = driver.find_element_by_xpath(\"/html/body/div/div/div[4]/div[3]/div[2]/p/span\").text.split()\n",
    "        survivorhp = int(survivor[1][1:])\n",
    "        survivorenergy = int(survivor[3])\n",
    "        survivorshields = int(survivor[5])\n",
    "\n",
    "        if battle_score > 500:\n",
    "            winner = 1\n",
    "        else:\n",
    "            winner = 2 \n",
    "    \n",
    "    \n",
    "    return([winner, survivorhp, survivorenergy,survivorshields])"
   ]
  },
  {
   "cell_type": "code",
   "execution_count": 23,
   "metadata": {
    "collapsed": true
   },
   "outputs": [],
   "source": [
    "def battle(team1, team2):\n",
    "    team1_live = copy.deepcopy(team1)\n",
    "    team2_live = copy.deepcopy(team2)\n",
    "    current_team1 = next((x for x in team1_live if x.status == 1), None)\n",
    "    current_team2 = next((x for x in team2_live if x.status == 1), None)\n",
    "\n",
    "    while (current_team1 != None ) & (current_team2 != None):\n",
    "        battle_result = oneVone(current_team1,current_team2)\n",
    "        if battle_result[0] == 0:\n",
    "            print(\"Simultaneous KO by \" +current_team1.name +\" and \" + current_team2.name)\n",
    "            current_team1.status = 0\n",
    "            current_team2.status = 0\n",
    "        elif battle_result[0] == 1:\n",
    "            print(current_team1.name +\" knocks out \" + current_team2.name)\n",
    "            current_team2.status = 0\n",
    "            current_team1.health = battle_result[1]\n",
    "            current_team1.energy = battle_result[2]\n",
    "            current_team1.bonus_shield = battle_result[3]-1\n",
    "\n",
    "        elif battle_result[0] == 2:\n",
    "            print(current_team2.name +\" knocks out \" + current_team1.name)\n",
    "            current_team1.status = 0\n",
    "            current_team2.health = battle_result[1]\n",
    "            current_team2.energy = battle_result[2]\n",
    "            current_team2.bonus_shield = battle_result[3]-1\n",
    "            \n",
    "        current_team1 = next((x for x in team1_live if x.status == 1), None)\n",
    "        current_team2 = next((x for x in team2_live if x.status == 1), None)\n",
    "\n",
    "    if (current_team1 == None) & (current_team2 == None):\n",
    "        print(\"It's a tie!\")\n",
    "    elif (current_team1 != None):\n",
    "        print(\"Team 1 wins!\")\n",
    "    elif (current_team2 != None):\n",
    "        print(\"Team 2 wins!\")"
   ]
  },
  {
   "cell_type": "code",
   "execution_count": null,
   "metadata": {
    "collapsed": true
   },
   "outputs": [],
   "source": []
  },
  {
   "cell_type": "code",
   "execution_count": 168,
   "metadata": {
    "collapsed": true
   },
   "outputs": [],
   "source": [
    "team1 = [charizard, venusaur, blastoise]"
   ]
  },
  {
   "cell_type": "code",
   "execution_count": 169,
   "metadata": {
    "collapsed": true
   },
   "outputs": [],
   "source": [
    "team2 = [arcanine,lapras, exeggutor]"
   ]
  },
  {
   "cell_type": "code",
   "execution_count": 172,
   "metadata": {},
   "outputs": [
    {
     "name": "stdout",
     "output_type": "stream",
     "text": [
      "arcanine knocks out charizard\n",
      "venusaur knocks out arcanine\n",
      "venusaur knocks out lapras\n",
      "exeggutor knocks out venusaur\n",
      "blastoise knocks out exeggutor\n",
      "Team 1 wins!\n"
     ]
    }
   ],
   "source": [
    "battle(team1, team2)"
   ]
  },
  {
   "cell_type": "code",
   "execution_count": 25,
   "metadata": {},
   "outputs": [],
   "source": [
    "with open('card_list.pkl', 'rb') as f:\n",
    "    card_list = pickle.load(f)"
   ]
  },
  {
   "cell_type": "code",
   "execution_count": 26,
   "metadata": {},
   "outputs": [],
   "source": [
    "with open('pve_card_list.pkl', 'rb') as f:\n",
    "    pve_card_list = pickle.load(f)"
   ]
  },
  {
   "cell_type": "code",
   "execution_count": null,
   "metadata": {
    "collapsed": true
   },
   "outputs": [],
   "source": []
  }
 ],
 "metadata": {
  "kernelspec": {
   "display_name": "Python 3",
   "language": "python",
   "name": "python3"
  },
  "language_info": {
   "codemirror_mode": {
    "name": "ipython",
    "version": 3
   },
   "file_extension": ".py",
   "mimetype": "text/x-python",
   "name": "python",
   "nbconvert_exporter": "python",
   "pygments_lexer": "ipython3",
   "version": "3.6.2"
  }
 },
 "nbformat": 4,
 "nbformat_minor": 2
}
