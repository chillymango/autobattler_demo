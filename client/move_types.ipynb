{
 "cells": [
  {
   "cell_type": "code",
   "execution_count": 1,
   "metadata": {},
   "outputs": [],
   "source": [
    "import pandas as pd"
   ]
  },
  {
   "cell_type": "code",
   "execution_count": 4,
   "metadata": {},
   "outputs": [],
   "source": [
    "import pickle\n",
    "import urllib.request\n",
    "\n",
    "class card:\n",
    "     def __init__(self, name, cost, move_f, move_ch, move_tm, level, a_iv, d_iv, hp_iv, tm_flag, shiny, attack_stg, def_stg, health, energy, bonus_shield, status):\n",
    "        self.name = name\n",
    "        self.cost = cost\n",
    "        self.move_f = move_f\n",
    "        self.move_ch = move_ch\n",
    "        self.move_tm = move_tm\n",
    "        self.level = level\n",
    "        self.a_iv = a_iv\n",
    "        self.d_iv = d_iv\n",
    "        self.hp_iv = hp_iv\n",
    "        self.tm_flag = tm_flag\n",
    "        self.attack_stg = attack_stg\n",
    "        self.def_stg = def_stg\n",
    "        self.shiny = shiny\n",
    "        self.health = health\n",
    "        self.energy = energy\n",
    "        self.bonus_shield = bonus_shield\n",
    "        self.status = status    \n",
    "with open('pve_card_list.pkl', 'rb') as f:\n",
    "    pve = pickle.load(f)\n",
    "with open('card_list.pkl', 'rb') as f:\n",
    "    pvp = pickle.load(f)\n"
   ]
  },
  {
   "cell_type": "code",
   "execution_count": null,
   "metadata": {},
   "outputs": [],
   "source": []
  },
  {
   "cell_type": "code",
   "execution_count": 7,
   "metadata": {},
   "outputs": [],
   "source": [
    "moves = pd.read_csv('moves/moves.csv')\n",
    "types = pd.read_csv('moves/types.csv')\n",
    "types = types[types.local_language_id == 9]"
   ]
  },
  {
   "cell_type": "code",
   "execution_count": 20,
   "metadata": {},
   "outputs": [],
   "source": [
    "moves= moves.merge(types)"
   ]
  },
  {
   "cell_type": "code",
   "execution_count": 10,
   "metadata": {},
   "outputs": [],
   "source": [
    "movelist = []\n",
    "for key, value in pvp.items():\n",
    "    movelist.append(value.move_f)\n",
    "    movelist.append(value.move_ch)\n",
    "    movelist.append(value.move_tm)\n",
    "for key, value in pve.items():\n",
    "    movelist.append(value.move_f)\n",
    "    movelist.append(value.move_ch)\n",
    "    movelist.append(value.move_tm)"
   ]
  },
  {
   "cell_type": "code",
   "execution_count": 39,
   "metadata": {},
   "outputs": [],
   "source": [
    "mew_m_fast = ['SNARL', 'DRAGON_TAIL', 'VOLT_SWITCH', 'INFESTATION', 'SHADOW_CLAW', 'POUND', 'STEEL_WING', 'POISON_JAB', 'CHARGE_BEAM', 'FROST_BREATH', 'DRAGON_TAIL', 'ROCK_SMASH', 'WATERFALL']\n",
    "mew_m_charged = ['ANCIENT_POWER','DRAGON_CLAW','ICE_BEAM','HYPER_BEAM','SOLAR_BEAM','THUNDER_BOLT','FLAME_CHARGE','LOW_SWEEP','ENERGY_BALL','STONE_EDGE','GYRO_BALL','DARK_PULSE','DAZZLING_GLEAM','SURF']\n",
    "porygon_m_fast = [\n",
    "    \"HIDDEN_POWER_BUG\",\n",
    "    \"HIDDEN_POWER_DARK\",\n",
    "    \"HIDDEN_POWER_DRAGON\",\n",
    "    \"HIDDEN_POWER_ELECTRIC\",\n",
    "    \"HIDDEN_POWER_FIGHTING\",\n",
    "    \"HIDDEN_POWER_FIRE\",\n",
    "    \"HIDDEN_POWER_FLYING\",\n",
    "    \"HIDDEN_POWER_GHOST\",\n",
    "    \"HIDDEN_POWER_GRASS\",\n",
    "    \"HIDDEN_POWER_GROUND\",\n",
    "    \"HIDDEN_POWER_ICE\",\n",
    "    \"HIDDEN_POWER_POISON\",\n",
    "    \"HIDDEN_POWER_PSYCHIC\",\n",
    "    \"HIDDEN_POWER_ROCK\",\n",
    "    \"HIDDEN_POWER_STEEL\",\n",
    "    \"HIDDEN_POWER_WATER\",\n",
    "\n",
    "    \n",
    "]\n",
    "\n",
    "movelist = movelist + mew_m_fast + mew_m_charged + porygon_m_fast"
   ]
  },
  {
   "cell_type": "code",
   "execution_count": 55,
   "metadata": {},
   "outputs": [],
   "source": [
    "moveset = set(movelist)"
   ]
  },
  {
   "cell_type": "code",
   "execution_count": 56,
   "metadata": {},
   "outputs": [],
   "source": [
    "moveset = pd.DataFrame(moveset)"
   ]
  },
  {
   "cell_type": "code",
   "execution_count": 57,
   "metadata": {},
   "outputs": [],
   "source": [
    "moveset[0]= moveset[0].str.replace('_','-')"
   ]
  },
  {
   "cell_type": "code",
   "execution_count": 58,
   "metadata": {},
   "outputs": [],
   "source": [
    "moveset['type'] = 'None'"
   ]
  },
  {
   "cell_type": "code",
   "execution_count": 61,
   "metadata": {},
   "outputs": [
    {
     "data": {
      "text/plain": [
       "'Water'"
      ]
     },
     "execution_count": 61,
     "metadata": {},
     "output_type": "execute_result"
    }
   ],
   "source": [
    "df.iloc[0]"
   ]
  },
  {
   "cell_type": "code",
   "execution_count": 62,
   "metadata": {},
   "outputs": [],
   "source": [
    "for i in range(moveset.shape[0]):\n",
    "    df = moves[moves.identifier == moveset.loc[i,0].lower()].name\n",
    "    if len(df) > 0:\n",
    "        moveset.loc[ i, 'type'] = df.iloc[0]"
   ]
  },
  {
   "cell_type": "code",
   "execution_count": 64,
   "metadata": {},
   "outputs": [
    {
     "data": {
      "text/html": [
       "<div>\n",
       "<style scoped>\n",
       "    .dataframe tbody tr th:only-of-type {\n",
       "        vertical-align: middle;\n",
       "    }\n",
       "\n",
       "    .dataframe tbody tr th {\n",
       "        vertical-align: top;\n",
       "    }\n",
       "\n",
       "    .dataframe thead th {\n",
       "        text-align: right;\n",
       "    }\n",
       "</style>\n",
       "<table border=\"1\" class=\"dataframe\">\n",
       "  <thead>\n",
       "    <tr style=\"text-align: right;\">\n",
       "      <th></th>\n",
       "      <th>0</th>\n",
       "      <th>type</th>\n",
       "    </tr>\n",
       "  </thead>\n",
       "  <tbody>\n",
       "    <tr>\n",
       "      <th>2</th>\n",
       "      <td>HIDDEN-POWER-PSYCHIC</td>\n",
       "      <td>None</td>\n",
       "    </tr>\n",
       "    <tr>\n",
       "      <th>4</th>\n",
       "      <td>THUNDER-BOLT</td>\n",
       "      <td>None</td>\n",
       "    </tr>\n",
       "    <tr>\n",
       "      <th>6</th>\n",
       "      <td>HIDDEN-POWER-ELECTRIC</td>\n",
       "      <td>None</td>\n",
       "    </tr>\n",
       "    <tr>\n",
       "      <th>8</th>\n",
       "      <td>HIDDEN-POWER-GROUND</td>\n",
       "      <td>None</td>\n",
       "    </tr>\n",
       "    <tr>\n",
       "      <th>10</th>\n",
       "      <td>HIDDEN-POWER-GHOST</td>\n",
       "      <td>None</td>\n",
       "    </tr>\n",
       "    <tr>\n",
       "      <th>22</th>\n",
       "      <td>HIDDEN-POWER-FIRE</td>\n",
       "      <td>None</td>\n",
       "    </tr>\n",
       "    <tr>\n",
       "      <th>31</th>\n",
       "      <td>HIDDEN-POWER-FIGHTING</td>\n",
       "      <td>None</td>\n",
       "    </tr>\n",
       "    <tr>\n",
       "      <th>37</th>\n",
       "      <td>HIDDEN-POWER-STEEL</td>\n",
       "      <td>None</td>\n",
       "    </tr>\n",
       "    <tr>\n",
       "      <th>47</th>\n",
       "      <td>HIDDEN-POWER-WATER</td>\n",
       "      <td>None</td>\n",
       "    </tr>\n",
       "    <tr>\n",
       "      <th>53</th>\n",
       "      <td>none</td>\n",
       "      <td>None</td>\n",
       "    </tr>\n",
       "    <tr>\n",
       "      <th>64</th>\n",
       "      <td>HIDDEN-POWER-POISON</td>\n",
       "      <td>None</td>\n",
       "    </tr>\n",
       "    <tr>\n",
       "      <th>71</th>\n",
       "      <td>HIDDEN-POWER-GRASS</td>\n",
       "      <td>None</td>\n",
       "    </tr>\n",
       "    <tr>\n",
       "      <th>99</th>\n",
       "      <td>HIDDEN-POWER-DARK</td>\n",
       "      <td>None</td>\n",
       "    </tr>\n",
       "    <tr>\n",
       "      <th>103</th>\n",
       "      <td>HIDDEN-POWER-BUG</td>\n",
       "      <td>None</td>\n",
       "    </tr>\n",
       "    <tr>\n",
       "      <th>104</th>\n",
       "      <td>HIDDEN-POWER-FLYING</td>\n",
       "      <td>None</td>\n",
       "    </tr>\n",
       "    <tr>\n",
       "      <th>109</th>\n",
       "      <td>HIDDEN-POWER-DRAGON</td>\n",
       "      <td>None</td>\n",
       "    </tr>\n",
       "    <tr>\n",
       "      <th>132</th>\n",
       "      <td>HIDDEN-POWER-ROCK</td>\n",
       "      <td>None</td>\n",
       "    </tr>\n",
       "    <tr>\n",
       "      <th>141</th>\n",
       "      <td>HIDDEN-POWER-ICE</td>\n",
       "      <td>None</td>\n",
       "    </tr>\n",
       "  </tbody>\n",
       "</table>\n",
       "</div>"
      ],
      "text/plain": [
       "                         0  type\n",
       "2     HIDDEN-POWER-PSYCHIC  None\n",
       "4             THUNDER-BOLT  None\n",
       "6    HIDDEN-POWER-ELECTRIC  None\n",
       "8      HIDDEN-POWER-GROUND  None\n",
       "10      HIDDEN-POWER-GHOST  None\n",
       "22       HIDDEN-POWER-FIRE  None\n",
       "31   HIDDEN-POWER-FIGHTING  None\n",
       "37      HIDDEN-POWER-STEEL  None\n",
       "47      HIDDEN-POWER-WATER  None\n",
       "53                    none  None\n",
       "64     HIDDEN-POWER-POISON  None\n",
       "71      HIDDEN-POWER-GRASS  None\n",
       "99       HIDDEN-POWER-DARK  None\n",
       "103       HIDDEN-POWER-BUG  None\n",
       "104    HIDDEN-POWER-FLYING  None\n",
       "109    HIDDEN-POWER-DRAGON  None\n",
       "132      HIDDEN-POWER-ROCK  None\n",
       "141       HIDDEN-POWER-ICE  None"
      ]
     },
     "execution_count": 64,
     "metadata": {},
     "output_type": "execute_result"
    }
   ],
   "source": [
    "moveset[moveset.type == 'None']"
   ]
  },
  {
   "cell_type": "code",
   "execution_count": 66,
   "metadata": {},
   "outputs": [],
   "source": [
    "moveset.to_csv('qtassets/move_types.csv')"
   ]
  },
  {
   "cell_type": "code",
   "execution_count": 69,
   "metadata": {},
   "outputs": [],
   "source": [
    "pokes = pd.read_csv('qtassets/sanitized_names.csv')"
   ]
  },
  {
   "cell_type": "code",
   "execution_count": 76,
   "metadata": {},
   "outputs": [],
   "source": [
    "pokemon = pd.read_csv('moves/pokemon.csv')\n",
    "pkmn_types = pd.read_csv('moves/pokemon_types.csv')"
   ]
  },
  {
   "cell_type": "code",
   "execution_count": 81,
   "metadata": {},
   "outputs": [],
   "source": [
    "pokemon['pokemon_id'] = pokemon.id"
   ]
  },
  {
   "cell_type": "code",
   "execution_count": 83,
   "metadata": {},
   "outputs": [],
   "source": [
    "pkmn_types= pkmn_types.merge(pokemon[['pokemon_id', 'identifier']])"
   ]
  },
  {
   "cell_type": "code",
   "execution_count": 87,
   "metadata": {},
   "outputs": [],
   "source": [
    "pkmn_types = pkmn_types.merge(types)"
   ]
  },
  {
   "cell_type": "code",
   "execution_count": 91,
   "metadata": {},
   "outputs": [],
   "source": [
    "pokes['type1'] = 'No Type'\n",
    "pokes['type2'] = 'No Type'"
   ]
  },
  {
   "cell_type": "code",
   "execution_count": 98,
   "metadata": {},
   "outputs": [
    {
     "name": "stderr",
     "output_type": "stream",
     "text": [
      "C:\\Users\\William\\Anaconda3\\lib\\site-packages\\ipykernel_launcher.py:6: SettingWithCopyWarning: \n",
      "A value is trying to be set on a copy of a slice from a DataFrame\n",
      "\n",
      "See the caveats in the documentation: http://pandas.pydata.org/pandas-docs/stable/indexing.html#indexing-view-versus-copy\n",
      "  \n"
     ]
    }
   ],
   "source": [
    "for i in range(pokes.shape[0]):\n",
    "    df = pkmn_types[pkmn_types.identifier == pokes.name[i]]\n",
    "    df_1 = df[df.slot == 1]\n",
    "    df_2 = df[df.slot == 2]\n",
    "    if df_1.shape[0] > 0:\n",
    "        pokes.type1[i] = df_1.name.iloc[0]\n",
    "    if df_1.shape[0] > 2:\n",
    "        pokes.type2[i] = df_2.name.iloc[0]"
   ]
  },
  {
   "cell_type": "code",
   "execution_count": 101,
   "metadata": {},
   "outputs": [],
   "source": [
    "pokes.to_csv('qtassets/pokemon_types.csv')"
   ]
  },
  {
   "cell_type": "code",
   "execution_count": null,
   "metadata": {},
   "outputs": [],
   "source": []
  }
 ],
 "metadata": {
  "kernelspec": {
   "display_name": "Python 3",
   "language": "python",
   "name": "python3"
  },
  "language_info": {
   "codemirror_mode": {
    "name": "ipython",
    "version": 3
   },
   "file_extension": ".py",
   "mimetype": "text/x-python",
   "name": "python",
   "nbconvert_exporter": "python",
   "pygments_lexer": "ipython3",
   "version": "3.7.3"
  }
 },
 "nbformat": 4,
 "nbformat_minor": 2
}
