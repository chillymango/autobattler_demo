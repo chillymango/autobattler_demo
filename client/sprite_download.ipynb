{
 "cells": [
  {
   "cell_type": "code",
   "execution_count": 29,
   "metadata": {},
   "outputs": [],
   "source": [
    "import pickle\n",
    "import urllib.request\n",
    "\n",
    "class card:\n",
    "     def __init__(self, name, cost, move_f, move_ch, move_tm, level, a_iv, d_iv, hp_iv, tm_flag, shiny, attack_stg, def_stg, health, energy, bonus_shield, status):\n",
    "        self.name = name\n",
    "        self.cost = cost\n",
    "        self.move_f = move_f\n",
    "        self.move_ch = move_ch\n",
    "        self.move_tm = move_tm\n",
    "        self.level = level\n",
    "        self.a_iv = a_iv\n",
    "        self.d_iv = d_iv\n",
    "        self.hp_iv = hp_iv\n",
    "        self.tm_flag = tm_flag\n",
    "        self.attack_stg = attack_stg\n",
    "        self.def_stg = def_stg\n",
    "        self.shiny = shiny\n",
    "        self.health = health\n",
    "        self.energy = energy\n",
    "        self.bonus_shield = bonus_shield\n",
    "        self.status = status    \n"
   ]
  },
  {
   "cell_type": "code",
   "execution_count": 30,
   "metadata": {},
   "outputs": [],
   "source": [
    "with open('pve_card_list.pkl', 'rb') as f:\n",
    "    pve_keys = pickle.load(f).keys()\n",
    "with open('card_list.pkl', 'rb') as f:\n",
    "    pvp_keys = pickle.load(f).keys()\n"
   ]
  },
  {
   "cell_type": "code",
   "execution_count": 39,
   "metadata": {},
   "outputs": [],
   "source": [
    "for i in pvp_keys:\n",
    "    j = i\n",
    "    if i.find(\"alolan\") > 0:\n",
    "        j = i.split('_')[0]+\"-alola\"\n",
    "    if i.find('male') > 0:\n",
    "        if i.find('female') > 0:\n",
    "            j = 'nidoran-f'\n",
    "        else:\n",
    "            j = 'nidoran-m'\n",
    "    pull_url = \"https://raw.githubusercontent.com/msikma/pokesprite/master/pokemon-gen8/regular/\" + j + \".png\"\n",
    "    push_path = \"qtassets/sprites/normie/\"+i+\".png\"\n",
    "    urllib.request.urlretrieve(pull_url,push_path)\n",
    "    \n",
    "    pull_url = \"https://raw.githubusercontent.com/msikma/pokesprite/master/pokemon-gen8/shiny/\" + j + \".png\"\n",
    "    push_path = \"qtassets/sprites/shiny/\"+i+\".png\"\n",
    "    urllib.request.urlretrieve(pull_url,push_path)"
   ]
  },
  {
   "cell_type": "code",
   "execution_count": 42,
   "metadata": {},
   "outputs": [],
   "source": [
    "for i in pve_keys:\n",
    "    j = i\n",
    "    if i.find(\"alolan\") > 0:\n",
    "        j = i.split('_')[0]+\"-alola\"\n",
    "    if i.find('male') > 0:\n",
    "        if i.find('female') > 0:\n",
    "            j = 'nidoran-f'\n",
    "        else:\n",
    "            j = 'nidoran-m'\n",
    "        \n",
    "    if i.find('mime') > 0:\n",
    "        j = 'mr-mime'\n",
    "    \n",
    "    pull_url = \"https://raw.githubusercontent.com/msikma/pokesprite/master/pokemon-gen8/regular/\" + j + \".png\"\n",
    "    push_path = \"qtassets/sprites/normie/\"+i+\".png\"\n",
    "    urllib.request.urlretrieve(pull_url,push_path)\n",
    "    \n",
    "    pull_url = \"https://raw.githubusercontent.com/msikma/pokesprite/master/pokemon-gen8/shiny/\" + j + \".png\"\n",
    "    push_path = \"qtassets/sprites/shiny/\"+i+\".png\"\n",
    "    urllib.request.urlretrieve(pull_url,push_path)"
   ]
  },
  {
   "cell_type": "code",
   "execution_count": null,
   "metadata": {},
   "outputs": [],
   "source": []
  }
 ],
 "metadata": {
  "kernelspec": {
   "display_name": "Python 3",
   "language": "python",
   "name": "python3"
  },
  "language_info": {
   "codemirror_mode": {
    "name": "ipython",
    "version": 3
   },
   "file_extension": ".py",
   "mimetype": "text/x-python",
   "name": "python",
   "nbconvert_exporter": "python",
   "pygments_lexer": "ipython3",
   "version": "3.7.3"
  }
 },
 "nbformat": 4,
 "nbformat_minor": 2
}
