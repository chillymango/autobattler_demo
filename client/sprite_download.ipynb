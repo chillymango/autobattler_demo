{
 "cells": [
  {
   "cell_type": "code",
   "execution_count": 2,
   "metadata": {},
   "outputs": [],
   "source": [
    "import pickle\n",
    "import urllib.request\n",
    "\n",
    "class card:\n",
    "     def __init__(self, name, cost, move_f, move_ch, move_tm, level, a_iv, d_iv, hp_iv, tm_flag, shiny, attack_stg, def_stg, health, energy, bonus_shield, status):\n",
    "        self.name = name\n",
    "        self.cost = cost\n",
    "        self.move_f = move_f\n",
    "        self.move_ch = move_ch\n",
    "        self.move_tm = move_tm\n",
    "        self.level = level\n",
    "        self.a_iv = a_iv\n",
    "        self.d_iv = d_iv\n",
    "        self.hp_iv = hp_iv\n",
    "        self.tm_flag = tm_flag\n",
    "        self.attack_stg = attack_stg\n",
    "        self.def_stg = def_stg\n",
    "        self.shiny = shiny\n",
    "        self.health = health\n",
    "        self.energy = energy\n",
    "        self.bonus_shield = bonus_shield\n",
    "        self.status = status    \n"
   ]
  },
  {
   "cell_type": "code",
   "execution_count": 30,
   "metadata": {},
   "outputs": [],
   "source": [
    "with open('pve_card_list.pkl', 'rb') as f:\n",
    "    pve_keys = pickle.load(f).keys()\n",
    "with open('card_list.pkl', 'rb') as f:\n",
    "    pvp_keys = pickle.load(f).keys()\n"
   ]
  },
  {
   "cell_type": "code",
   "execution_count": 39,
   "metadata": {},
   "outputs": [],
   "source": [
    "for i in pvp_keys:\n",
    "    j = i\n",
    "    if i.find(\"alolan\") > 0:\n",
    "        j = i.split('_')[0]+\"-alola\"\n",
    "    if i.find('male') > 0:\n",
    "        if i.find('female') > 0:\n",
    "            j = 'nidoran-f'\n",
    "        else:\n",
    "            j = 'nidoran-m'\n",
    "    pull_url = \"https://raw.githubusercontent.com/msikma/pokesprite/master/pokemon-gen8/regular/\" + j + \".png\"\n",
    "    push_path = \"qtassets/sprites/normie/\"+i+\".png\"\n",
    "    urllib.request.urlretrieve(pull_url,push_path)\n",
    "    \n",
    "    pull_url = \"https://raw.githubusercontent.com/msikma/pokesprite/master/pokemon-gen8/shiny/\" + j + \".png\"\n",
    "    push_path = \"qtassets/sprites/shiny/\"+i+\".png\"\n",
    "    urllib.request.urlretrieve(pull_url,push_path)"
   ]
  },
  {
   "cell_type": "code",
   "execution_count": 42,
   "metadata": {},
   "outputs": [],
   "source": [
    "for i in pve_keys:\n",
    "    j = i\n",
    "    if i.find(\"alolan\") > 0:\n",
    "        j = i.split('_')[0]+\"-alola\"\n",
    "    if i.find('male') > 0:\n",
    "        if i.find('female') > 0:\n",
    "            j = 'nidoran-f'\n",
    "        else:\n",
    "            j = 'nidoran-m'\n",
    "        \n",
    "    if i.find('mime') > 0:\n",
    "        j = 'mr-mime'\n",
    "    \n",
    "    pull_url = \"https://raw.githubusercontent.com/msikma/pokesprite/master/pokemon-gen8/regular/\" + j + \".png\"\n",
    "    push_path = \"qtassets/sprites/normie/\"+i+\".png\"\n",
    "    urllib.request.urlretrieve(pull_url,push_path)\n",
    "    \n",
    "    pull_url = \"https://raw.githubusercontent.com/msikma/pokesprite/master/pokemon-gen8/shiny/\" + j + \".png\"\n",
    "    push_path = \"qtassets/sprites/shiny/\"+i+\".png\"\n",
    "    urllib.request.urlretrieve(pull_url,push_path)"
   ]
  },
  {
   "cell_type": "code",
   "execution_count": 14,
   "metadata": {},
   "outputs": [],
   "source": [
    "hdr = {'User-Agent': 'Mozilla/5.0 (X11; Linux x86_64) AppleWebKit/537.11 (KHTML, like Gecko) Chrome/23.0.1271.64 Safari/537.11',\n",
    "       'Accept': 'text/html,application/xhtml+xml,application/xml;q=0.9,*/*;q=0.8',\n",
    "       'Accept-Charset': 'ISO-8859-1,utf-8;q=0.7,*;q=0.3',\n",
    "       'Accept-Encoding': 'none',\n",
    "       'Accept-Language': 'en-US,en;q=0.8',\n",
    "       'Connection': 'keep-alive'}"
   ]
  },
  {
   "cell_type": "code",
   "execution_count": null,
   "metadata": {},
   "outputs": [],
   "source": [
    "import requests\n",
    "\n",
    "url = 'http://papers.xtremepapers.com/CIE/Cambridge%20IGCSE/Mathematics%20(0580)/0580_s03_qp_1.pdf'\n",
    "r = requests.get(url)\n",
    "with open('0580_s03_qp_1.pdf', 'wb') as outfile:\n",
    "    outfile.write(r.content)"
   ]
  },
  {
   "cell_type": "code",
   "execution_count": 16,
   "metadata": {},
   "outputs": [
    {
     "ename": "TypeError",
     "evalue": "urlretrieve() got an unexpected keyword argument 'headers'",
     "output_type": "error",
     "traceback": [
      "\u001b[1;31m---------------------------------------------------------------------------\u001b[0m",
      "\u001b[1;31mTypeError\u001b[0m                                 Traceback (most recent call last)",
      "\u001b[1;32m<ipython-input-16-f3f80c549453>\u001b[0m in \u001b[0;36m<module>\u001b[1;34m\u001b[0m\n\u001b[0;32m      3\u001b[0m     \u001b[0mpull_url\u001b[0m \u001b[1;33m=\u001b[0m \u001b[1;34m\"https://static0.thegamerimages.com/wordpress/wp-content/uploads/2021/07/180px-Pok%C3%A9mon_\"\u001b[0m\u001b[1;33m+\u001b[0m\u001b[0mi\u001b[0m\u001b[1;33m+\u001b[0m\u001b[1;34m\"_Type_Iconsvg.png\"\u001b[0m\u001b[1;33m\u001b[0m\u001b[1;33m\u001b[0m\u001b[0m\n\u001b[0;32m      4\u001b[0m     \u001b[0mpush_path\u001b[0m \u001b[1;33m=\u001b[0m \u001b[1;34m\"qtassets/sprites/typeicons/\"\u001b[0m\u001b[1;33m+\u001b[0m\u001b[0mi\u001b[0m\u001b[1;33m+\u001b[0m\u001b[1;34m\".png\"\u001b[0m\u001b[1;33m\u001b[0m\u001b[1;33m\u001b[0m\u001b[0m\n\u001b[1;32m----> 5\u001b[1;33m     \u001b[0murllib\u001b[0m\u001b[1;33m.\u001b[0m\u001b[0mrequest\u001b[0m\u001b[1;33m.\u001b[0m\u001b[0murlretrieve\u001b[0m\u001b[1;33m(\u001b[0m\u001b[0mpull_url\u001b[0m\u001b[1;33m,\u001b[0m\u001b[0mpush_path\u001b[0m\u001b[1;33m,\u001b[0m \u001b[0mheaders\u001b[0m \u001b[1;33m=\u001b[0m \u001b[0mhdr\u001b[0m\u001b[1;33m)\u001b[0m\u001b[1;33m\u001b[0m\u001b[1;33m\u001b[0m\u001b[0m\n\u001b[0m\u001b[0;32m      6\u001b[0m \u001b[1;33m\u001b[0m\u001b[0m\n",
      "\u001b[1;31mTypeError\u001b[0m: urlretrieve() got an unexpected keyword argument 'headers'"
     ]
    }
   ],
   "source": [
    "for i in ['Bug', 'Dark', 'Dragon', 'Electric', 'Fairy', 'Fighting', 'Fire', 'Flying', 'Ghost', 'Grass',\n",
    "          'Ground', 'Ice', 'Normal', 'Poison', 'Psychic', 'Rock', 'Steel', 'Water']:\n",
    "    pull_url = \"https://static0.thegamerimages.com/wordpress/wp-content/uploads/2021/07/180px-Pok%C3%A9mon_\"+i+\"_Type_Iconsvg.png\"\n",
    "    push_path = \"qtassets/sprites/typeicons/\"+i+\".png\"\n",
    "    urllib.request.urlretrieve(pull_url,push_path, headers = hdr)\n",
    "\n",
    "    url = 'http://papers.xtremepapers.com/CIE/Cambridge%20IGCSE/Mathematics%20(0580)/0580_s03_qp_1.pdf'\n",
    "    r = requests.get(push)\n",
    "    with open('0580_s03_qp_1.pdf', 'wb') as outfile:\n",
    "        outfile.write(r.content)"
   ]
  },
  {
   "cell_type": "code",
   "execution_count": 12,
   "metadata": {},
   "outputs": [
    {
     "data": {
      "text/plain": [
       "'https://static0.thegamerimages.com/wordpress/wp-content/uploads/2021/07/180px-Pok%C3%A9mon_Bug_Type_Iconsvg.png'"
      ]
     },
     "execution_count": 12,
     "metadata": {},
     "output_type": "execute_result"
    }
   ],
   "source": [
    "pull_url"
   ]
  },
  {
   "cell_type": "code",
   "execution_count": null,
   "metadata": {},
   "outputs": [],
   "source": []
  }
 ],
 "metadata": {
  "kernelspec": {
   "display_name": "Python 3",
   "language": "python",
   "name": "python3"
  },
  "language_info": {
   "codemirror_mode": {
    "name": "ipython",
    "version": 3
   },
   "file_extension": ".py",
   "mimetype": "text/x-python",
   "name": "python",
   "nbconvert_exporter": "python",
   "pygments_lexer": "ipython3",
   "version": "3.7.3"
  }
 },
 "nbformat": 4,
 "nbformat_minor": 2
}
