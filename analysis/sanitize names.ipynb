{
 "cells": [
  {
   "cell_type": "code",
   "execution_count": 1,
   "metadata": {},
   "outputs": [],
   "source": [
    "import pickle\n",
    "import urllib.request\n",
    "\n",
    "class card:\n",
    "     def __init__(self, name, cost, move_f, move_ch, move_tm, level, a_iv, d_iv, hp_iv, tm_flag, shiny, attack_stg, def_stg, health, energy, bonus_shield, status):\n",
    "        self.name = name\n",
    "        self.cost = cost\n",
    "        self.move_f = move_f\n",
    "        self.move_ch = move_ch\n",
    "        self.move_tm = move_tm\n",
    "        self.level = level\n",
    "        self.a_iv = a_iv\n",
    "        self.d_iv = d_iv\n",
    "        self.hp_iv = hp_iv\n",
    "        self.tm_flag = tm_flag\n",
    "        self.attack_stg = attack_stg\n",
    "        self.def_stg = def_stg\n",
    "        self.shiny = shiny\n",
    "        self.health = health\n",
    "        self.energy = energy\n",
    "        self.bonus_shield = bonus_shield\n",
    "        self.status = status    \n",
    "with open('pve_card_list.pkl', 'rb') as f:\n",
    "    pve_keys = pickle.load(f).keys()\n",
    "with open('card_list.pkl', 'rb') as f:\n",
    "    pvp_keys = pickle.load(f).keys()\n"
   ]
  },
  {
   "cell_type": "code",
   "execution_count": 6,
   "metadata": {},
   "outputs": [
    {
     "name": "stdout",
     "output_type": "stream",
     "text": [
      "marowak_alolan\n",
      "Alolan Marowak\n",
      "ninetales_alolan\n",
      "Alolan Ninetales\n",
      "persian_alolan\n",
      "Alolan Persian\n",
      "sandslash_alolan\n",
      "Alolan Sandslash\n",
      "vulpix_alolan\n",
      "Alolan Vulpix\n",
      "raticate_alolan\n",
      "Alolan Raticate\n",
      "meowth_alolan\n",
      "Alolan Meowth\n",
      "rattata_alolan\n",
      "Alolan Rattata\n",
      "sandshrew_alolan\n",
      "Alolan Sandshrew\n"
     ]
    }
   ],
   "source": [
    "i_l = []\n",
    "j_l = []\n",
    "for i in pvp_keys:\n",
    "    j = i.capitalize()\n",
    "    if i.find('_') > 0:\n",
    "        print(i)\n",
    "        j = input()\n",
    "    i_l.append(i)\n",
    "    j_l.append(j)\n",
    "    \n"
   ]
  },
  {
   "cell_type": "code",
   "execution_count": 7,
   "metadata": {},
   "outputs": [
    {
     "name": "stdout",
     "output_type": "stream",
     "text": [
      "rattata_alolan\n",
      "Alolan Rattata\n",
      "nidoran_female\n",
      "Nidoran♀\n",
      "nidoran_male\n",
      "Nidoran♂\n",
      "mr_mime\n",
      "Mr. Mime\n",
      "golem_alolan\n",
      "Alolan Golem\n",
      "exeggutor_alolan\n",
      "Alolan Exeggutor\n"
     ]
    }
   ],
   "source": [
    "for i in pve_keys:\n",
    "    j = i.capitalize()\n",
    "    if i.find('_') > 0:\n",
    "        print(i)\n",
    "        j = input()\n",
    "    i_l.append(i)\n",
    "    j_l.append(j)\n",
    "    \n"
   ]
  },
  {
   "cell_type": "code",
   "execution_count": 10,
   "metadata": {},
   "outputs": [],
   "source": [
    "import pandas as pd\n"
   ]
  },
  {
   "cell_type": "code",
   "execution_count": 12,
   "metadata": {},
   "outputs": [],
   "source": [
    "df = pd.DataFrame(list(zip(i_l, j_l)),\n",
    "               columns =['name', 'sanitized_name'])"
   ]
  },
  {
   "cell_type": "code",
   "execution_count": 14,
   "metadata": {},
   "outputs": [],
   "source": [
    "df.to_csv('qtassets/sanitized_names.csv')"
   ]
  },
  {
   "cell_type": "code",
   "execution_count": 21,
   "metadata": {},
   "outputs": [
    {
     "data": {
      "text/plain": [
       "'Mew'"
      ]
     },
     "execution_count": 21,
     "metadata": {},
     "output_type": "execute_result"
    }
   ],
   "source": [
    "df[df.name == 'mew'].sanitized_name.iloc[0]"
   ]
  },
  {
   "cell_type": "code",
   "execution_count": null,
   "metadata": {},
   "outputs": [],
   "source": []
  }
 ],
 "metadata": {
  "kernelspec": {
   "display_name": "Python 3",
   "language": "python",
   "name": "python3"
  },
  "language_info": {
   "codemirror_mode": {
    "name": "ipython",
    "version": 3
   },
   "file_extension": ".py",
   "mimetype": "text/x-python",
   "name": "python",
   "nbconvert_exporter": "python",
   "pygments_lexer": "ipython3",
   "version": "3.7.3"
  }
 },
 "nbformat": 4,
 "nbformat_minor": 2
}
