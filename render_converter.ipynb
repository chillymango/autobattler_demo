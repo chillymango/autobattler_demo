{
 "cells": [
  {
   "cell_type": "code",
   "execution_count": 2,
   "metadata": {
    "collapsed": true
   },
   "outputs": [],
   "source": [
    "file1 = open('demo_battle.txt', 'r')\n",
    "battle_log = file1.readlines()"
   ]
  },
  {
   "cell_type": "code",
   "execution_count": 43,
   "metadata": {},
   "outputs": [],
   "source": [
    "header = ''"
   ]
  },
  {
   "cell_type": "code",
   "execution_count": 63,
   "metadata": {},
   "outputs": [],
   "source": [
    "battle_render = []\n",
    "maxhp_dict = {}\n",
    "currenthp_dict = {}\n",
    "battle_switch = 0\n",
    "battle_render.append(header)\n",
    "\n",
    "for i in range(len(battle_log)):\n",
    "    line = battle_log[i]\n",
    "    if line.find(\"category='join_party'\") != -1:\n",
    "        poke_name = line.partition(\"PokemonId.\")[2].partition(\":\")[0].capitalize()\n",
    "        if poke_name.find('alolan') != -1:\n",
    "            poke_name = poke_name.split('_')[0]+\"-Alola\"\n",
    "        \n",
    "        poke_health = round(float(line.partition(\"health=\")[2].partition(\" \")[0]))\n",
    "        maxhp_dict[poke_name] = poke_health\n",
    "        currenthp_dict[poke_name] = poke_health\n",
    "        \n",
    "    if line.find(\"category='team1_active'\") != -1:\n",
    "        poke_name = line.partition(\"PokemonId.\")[2].partition(\" \")[0].capitalize()\n",
    "        if poke_name.find('alolan') != -1:\n",
    "            poke_name = poke_name.split('_')[0]+\"-Alola\"\n",
    "\n",
    "        line = \"|switch|p1a: \" + poke_name + \"|\" + poke_name + \", M|\"+str(party_dict[poke_name])+\"\\\\/\"+str(party_dict[poke_name])\n",
    "        battle_render.append(line)\n",
    "        poke1_maxhp = (maxhp_dict[poke_name])\n",
    "        poke1_currenthp = (currenthp_dict[poke_name])\n",
    "\n",
    "    if line.find(\"category='team2_active'\") != -1:\n",
    "        poke_name = line.partition(\"PokemonId.\")[2].partition(\" \")[0].capitalize()\n",
    "        if poke_name.find('alolan') != -1:\n",
    "            poke_name = poke_name.split('_')[0]+\"-Alola\"\n",
    "\n",
    "        line = \"|switch|p2a: \" + poke_name + \"|\" + poke_name + \", M|\"+str(party_dict[poke_name])+\"\\\\/\"+str(party_dict[poke_name])\n",
    "        battle_render.append(line)\n",
    "        poke2_maxhp = (maxhp_dict[poke_name])\n",
    "        poke2_currenthp = (currenthp_dict[poke_name])\n",
    "        if battle_switch == 0:\n",
    "            battle_render.append(\"|turn|1\")\n",
    "            battle_render.append(\"|\")\n",
    "            battle_switch = 1\n",
    "\n"
   ]
  },
  {
   "cell_type": "code",
   "execution_count": 64,
   "metadata": {},
   "outputs": [
    {
     "data": {
      "text/plain": [
       "{'Pidgey': 26.0, 'Pikachu': 39.0, 'Rattata': 22.0, 'Rattata-Alola': 22.0}"
      ]
     },
     "execution_count": 64,
     "metadata": {},
     "output_type": "execute_result"
    }
   ],
   "source": [
    "party_dict"
   ]
  },
  {
   "cell_type": "code",
   "execution_count": 65,
   "metadata": {},
   "outputs": [
    {
     "data": {
      "text/plain": [
       "['',\n",
       " '|switch|p1a: Pikachu|Pikachu, M|39.0\\\\/39.0',\n",
       " '|switch|p2a: Rattata|Rattata, M|22.0\\\\/22.0',\n",
       " '|turn|1',\n",
       " '|',\n",
       " '|switch|p1a: Pikachu|Pikachu, M|39.0\\\\/39.0',\n",
       " '|switch|p2a: Pidgey|Pidgey, M|26.0\\\\/26.0',\n",
       " '|switch|p1a: Pikachu|Pikachu, M|39.0\\\\/39.0',\n",
       " '|switch|p2a: Rattata-Alola|Rattata-Alola, M|22.0\\\\/22.0']"
      ]
     },
     "execution_count": 65,
     "metadata": {},
     "output_type": "execute_result"
    }
   ],
   "source": [
    "battle_render"
   ]
  },
  {
   "cell_type": "code",
   "execution_count": null,
   "metadata": {
    "collapsed": true
   },
   "outputs": [],
   "source": []
  }
 ],
 "metadata": {
  "kernelspec": {
   "display_name": "mykernel",
   "language": "python",
   "name": "mykernel"
  },
  "language_info": {
   "codemirror_mode": {
    "name": "ipython",
    "version": 2
   },
   "file_extension": ".py",
   "mimetype": "text/x-python",
   "name": "python",
   "nbconvert_exporter": "python",
   "pygments_lexer": "ipython2",
   "version": "2.7.13"
  }
 },
 "nbformat": 4,
 "nbformat_minor": 2
}
